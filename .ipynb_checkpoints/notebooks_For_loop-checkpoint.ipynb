{
 "cells": [
  {
   "cell_type": "markdown",
   "metadata": {
    "tags": []
   },
   "source": [
    "### Цикл for имеет несколько применений\n"
   ]
  },
  {
   "cell_type": "markdown",
   "metadata": {},
   "source": [
    "#### 1) Мы можем использовать его для повторения каких-либо действий строго N раз. Например, следующая программа выведет на экран слово Hello ровно 6 раз"
   ]
  },
  {
   "cell_type": "code",
   "execution_count": 1,
   "metadata": {},
   "outputs": [
    {
     "name": "stdout",
     "output_type": "stream",
     "text": [
      "Hello\n",
      "Hello\n",
      "Hello\n",
      "Hello\n",
      "Hello\n",
      "Hello\n"
     ]
    }
   ],
   "source": [
    "for i in range(6):\n",
    "    print(\"Hello\")"
   ]
  },
  {
   "cell_type": "markdown",
   "metadata": {},
   "source": [
    "####  2) Функция range может сгенерировать много разных числовых последовательностей, например:"
   ]
  },
  {
   "cell_type": "markdown",
   "metadata": {},
   "source": [
    " - последовательность чисел от 0 до N"
   ]
  },
  {
   "cell_type": "code",
   "execution_count": 2,
   "metadata": {},
   "outputs": [
    {
     "name": "stdout",
     "output_type": "stream",
     "text": [
      "0\n",
      "1\n",
      "2\n",
      "3\n",
      "4\n",
      "5\n"
     ]
    }
   ],
   "source": [
    "for i in range(6):\n",
    "    print(i)"
   ]
  },
  {
   "cell_type": "markdown",
   "metadata": {},
   "source": [
    " - последовательность чисел от A до B"
   ]
  },
  {
   "cell_type": "code",
   "execution_count": 3,
   "metadata": {},
   "outputs": [
    {
     "name": "stdout",
     "output_type": "stream",
     "text": [
      "256 257 258 259 260 261 262 263 264 265 266 267 268 269 270 271 272 273 274 275 276 277 278 279 280 281 282 283 284 285 286 287 288 "
     ]
    }
   ],
   "source": [
    "for i in range(256, 289):\n",
    "    print(i, end=\" \")"
   ]
  },
  {
   "cell_type": "markdown",
   "metadata": {},
   "source": [
    " - последовательность чисел от A до B с шагом Z:"
   ]
  },
  {
   "cell_type": "code",
   "execution_count": 4,
   "metadata": {},
   "outputs": [
    {
     "name": "stdout",
     "output_type": "stream",
     "text": [
      "0 5 10 15 20 25 30 35 40 45 50 "
     ]
    }
   ],
   "source": [
    "for i in range(0, 51, 5):\n",
    "    print(i, end=\" \")"
   ]
  },
  {
   "cell_type": "markdown",
   "metadata": {},
   "source": [
    " - последовательность чисел может быть и убывающей:"
   ]
  },
  {
   "cell_type": "code",
   "execution_count": 5,
   "metadata": {},
   "outputs": [
    {
     "name": "stdout",
     "output_type": "stream",
     "text": [
      "10 9 8 7 6 5 4 3 2 1 "
     ]
    }
   ],
   "source": [
    "for i in range(10, 0, -1):\n",
    "    print(i, end=\" \")"
   ]
  },
  {
   "cell_type": "markdown",
   "metadata": {},
   "source": [
    "##### Обратите внимание, что мы можем использовать сгенерированные последовательности для своих задач. Например, следующая программа выводит на экран квадраты первых 10 чисел:  "
   ]
  },
  {
   "cell_type": "code",
   "execution_count": 6,
   "metadata": {},
   "outputs": [
    {
     "name": "stdout",
     "output_type": "stream",
     "text": [
      "1 * 1 = 1\n",
      "2 * 2 = 4\n",
      "3 * 3 = 9\n",
      "4 * 4 = 16\n",
      "5 * 5 = 25\n",
      "6 * 6 = 36\n",
      "7 * 7 = 49\n",
      "8 * 8 = 64\n",
      "9 * 9 = 81\n",
      "10 * 10 = 100\n"
     ]
    }
   ],
   "source": [
    "for i in range(1, 11):\n",
    "    print(i, \"*\", i, \"=\", i**2)"
   ]
  },
  {
   "cell_type": "markdown",
   "metadata": {},
   "source": [
    "#### 3) Цикл for может перебирать не только последовательность чисел из range(), а работать с любой последовательностью:"
   ]
  },
  {
   "cell_type": "markdown",
   "metadata": {},
   "source": [
    "- Например, любая строка это последовательность символов:"
   ]
  },
  {
   "cell_type": "code",
   "execution_count": 7,
   "metadata": {},
   "outputs": [
    {
     "name": "stdout",
     "output_type": "stream",
     "text": [
      "A\n",
      "p\n",
      "p\n",
      "l\n",
      "e\n"
     ]
    }
   ],
   "source": [
    "for letter in \"Apple\":\n",
    "    print(letter)"
   ]
  },
  {
   "cell_type": "markdown",
   "metadata": {},
   "source": [
    "- И списки тоже являются последовательностями, которые можно перебирать поэлементно:"
   ]
  },
  {
   "cell_type": "code",
   "execution_count": 8,
   "metadata": {},
   "outputs": [
    {
     "name": "stdout",
     "output_type": "stream",
     "text": [
      "1 4 6 2 9 12 8 0 "
     ]
    }
   ],
   "source": [
    "for element in [1, 4, 6, 2, 9, 12, 8, 0]:\n",
    "    print(element, end = ' ')"
   ]
  },
  {
   "cell_type": "markdown",
   "metadata": {},
   "source": [
    "#### 4) Один цикл for можно вложить внутрь второго"
   ]
  },
  {
   "cell_type": "markdown",
   "metadata": {},
   "source": [
    "- Например, в этой задаче генерируется таблица умножения:"
   ]
  },
  {
   "cell_type": "code",
   "execution_count": 9,
   "metadata": {},
   "outputs": [
    {
     "name": "stdout",
     "output_type": "stream",
     "text": [
      "3 * 3 = 9\n",
      "3 * 4 = 12\n",
      "3 * 5 = 15\n",
      "3 * 6 = 18\n",
      "4 * 3 = 12\n",
      "4 * 4 = 16\n",
      "4 * 5 = 20\n",
      "4 * 6 = 24\n",
      "5 * 3 = 15\n",
      "5 * 4 = 20\n",
      "5 * 5 = 25\n",
      "5 * 6 = 30\n",
      "6 * 3 = 18\n",
      "6 * 4 = 24\n",
      "6 * 5 = 30\n",
      "6 * 6 = 36\n"
     ]
    }
   ],
   "source": [
    "for i in range(3, 7):\n",
    "    for k in range(3, 7):\n",
    "        print(i, \"*\", k, '=', i * k)"
   ]
  },
  {
   "cell_type": "markdown",
   "metadata": {},
   "source": [
    "### Задачи на цикл For\n"
   ]
  },
  {
   "cell_type": "markdown",
   "metadata": {},
   "source": [
    "### Все рекомендуемые задания находятся здесь: [(ссылка)](https://informatics.msk.ru/mod/statements/view.php?id=3457)\n",
    "\n",
    "- [Ряд - 1](https://informatics.msk.ru/mod/statements/view.php?id=3457&chapterid=3528#1)\n",
    "- [Ряд-2](https://informatics.msk.ru/mod/statements/view.php?id=3457&chapterid=3529#1)\n",
    "- [Ряд-3](https://informatics.msk.ru/mod/statements/view.php?id=3457&chapterid=3530#1)\n",
    "- [Сумма квадратов](https://informatics.msk.ru/mod/statements/view.php?id=3457&chapterid=3531#1)\n",
    "- [Факториал](https://informatics.msk.ru/mod/statements/view.php?id=3457&chapterid=3533#1)\n",
    "- [Сумма произведений соседних чисел](https://informatics.msk.ru/mod/statements/view.php?id=3457&chapterid=3537#1)\n",
    "- [Четные числа](https://informatics.msk.ru/mod/statements/view.php?id=3457&chapterid=3538#1)\n",
    "- [Сумма десяти чисел](https://informatics.msk.ru/mod/statements/view.php?id=3457&chapterid=3539#1)\n",
    "- [Сумма N чисел](https://informatics.msk.ru/mod/statements/view.php?id=3457&chapterid=3539#1)\n",
    "- [Количество нулей](https://informatics.msk.ru/mod/statements/view.php?id=3457&chapterid=3541#1)\n",
    "\n",
    "***\n",
    "- [Пингвины](https://informatics.msk.ru/mod/statements/view.php?id=3457&chapterid=3535#1)\n",
    "- [Флаги](https://informatics.msk.ru/mod/statements/view.php?id=3457&chapterid=3536#1)"
   ]
  },
  {
   "cell_type": "code",
   "execution_count": null,
   "metadata": {},
   "outputs": [],
   "source": []
  }
 ],
 "metadata": {
  "kernelspec": {
   "display_name": "Python 3 (ipykernel)",
   "language": "python",
   "name": "python3"
  },
  "language_info": {
   "codemirror_mode": {
    "name": "ipython",
    "version": 3
   },
   "file_extension": ".py",
   "mimetype": "text/x-python",
   "name": "python",
   "nbconvert_exporter": "python",
   "pygments_lexer": "ipython3",
   "version": "3.9.13"
  },
  "toc-autonumbering": false,
  "toc-showcode": false,
  "toc-showmarkdowntxt": false
 },
 "nbformat": 4,
 "nbformat_minor": 4
}
