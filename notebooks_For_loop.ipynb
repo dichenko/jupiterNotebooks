{
  "metadata": {
    "language_info": {
      "codemirror_mode": {
        "name": "python",
        "version": 3
      },
      "file_extension": ".py",
      "mimetype": "text/x-python",
      "name": "python",
      "nbconvert_exporter": "python",
      "pygments_lexer": "ipython3",
      "version": "3.8"
    },
    "kernelspec": {
      "name": "python",
      "display_name": "Python (Pyodide)",
      "language": "python"
    },
    "toc-autonumbering": false,
    "toc-showmarkdowntxt": false,
    "toc-showcode": false
  },
  "nbformat_minor": 4,
  "nbformat": 4,
  "cells": [
    {
      "cell_type": "markdown",
      "source": "### Цикл for имеет несколько применений\n",
      "metadata": {
        "tags": []
      }
    },
    {
      "cell_type": "markdown",
      "source": "#### 1) Мы можем использовать его для повторения каких-либо действий строго N раз. Например, следующая программа выведет на экран слово Hello ровно 6 раз",
      "metadata": {}
    },
    {
      "cell_type": "code",
      "source": "for i in range(6):\n    print(\"Hello\")",
      "metadata": {
        "trusted": true
      },
      "execution_count": 1,
      "outputs": [
        {
          "name": "stdout",
          "text": "Hello\nHello\nHello\nHello\nHello\nHello\n",
          "output_type": "stream"
        }
      ]
    },
    {
      "cell_type": "markdown",
      "source": "####  2) Функция range может сгенерировать много разных числовых последовательностей, например:",
      "metadata": {}
    },
    {
      "cell_type": "markdown",
      "source": " - последовательность чисел от 0 до N",
      "metadata": {}
    },
    {
      "cell_type": "code",
      "source": "for i in range(6):\n    print(i)",
      "metadata": {
        "trusted": true
      },
      "execution_count": 2,
      "outputs": [
        {
          "name": "stdout",
          "text": "0\n1\n2\n3\n4\n5\n",
          "output_type": "stream"
        }
      ]
    },
    {
      "cell_type": "markdown",
      "source": " - последовательность чисел от A до B",
      "metadata": {}
    },
    {
      "cell_type": "code",
      "source": "for i in range(256, 289):\n    print(i, end=\" \")",
      "metadata": {
        "trusted": true
      },
      "execution_count": 3,
      "outputs": [
        {
          "name": "stdout",
          "text": "256 257 258 259 260 261 262 263 264 265 266 267 268 269 270 271 272 273 274 275 276 277 278 279 280 281 282 283 284 285 286 287 288 ",
          "output_type": "stream"
        }
      ]
    },
    {
      "cell_type": "markdown",
      "source": " - последовательность чисел от A до B с шагом Z:",
      "metadata": {}
    },
    {
      "cell_type": "code",
      "source": "for i in range(0, 51, 5):\n    print(i, end=\" \")",
      "metadata": {
        "trusted": true
      },
      "execution_count": 4,
      "outputs": [
        {
          "name": "stdout",
          "text": "0 5 10 15 20 25 30 35 40 45 50 ",
          "output_type": "stream"
        }
      ]
    },
    {
      "cell_type": "markdown",
      "source": " - последовательность чисел может быть и убывающей:",
      "metadata": {}
    },
    {
      "cell_type": "code",
      "source": "for i in range(10, 0, -1):\n    print(i, end=\" \")",
      "metadata": {
        "trusted": true
      },
      "execution_count": 5,
      "outputs": [
        {
          "name": "stdout",
          "text": "10 9 8 7 6 5 4 3 2 1 ",
          "output_type": "stream"
        }
      ]
    },
    {
      "cell_type": "markdown",
      "source": "##### Обратите внимание, что мы можем использовать сгенерированные последовательности для своих задач. Например, следующая программа выводит на экран квадраты первых 10 чисел:  ",
      "metadata": {}
    },
    {
      "cell_type": "code",
      "source": "for i in range(1, 11):\n    print(i, \"*\", i, \"=\", i**2)",
      "metadata": {
        "trusted": true
      },
      "execution_count": 6,
      "outputs": [
        {
          "name": "stdout",
          "text": "1 * 1 = 1\n2 * 2 = 4\n3 * 3 = 9\n4 * 4 = 16\n5 * 5 = 25\n6 * 6 = 36\n7 * 7 = 49\n8 * 8 = 64\n9 * 9 = 81\n10 * 10 = 100\n",
          "output_type": "stream"
        }
      ]
    },
    {
      "cell_type": "markdown",
      "source": "#### 3) Цикл for может перебирать не только последовательность чисел из range(), а работать с любой последовательностью:",
      "metadata": {}
    },
    {
      "cell_type": "markdown",
      "source": "- Например, любая строка это последовательность символов:",
      "metadata": {}
    },
    {
      "cell_type": "code",
      "source": "for letter in \"Apple\":\n    print(letter)",
      "metadata": {
        "trusted": true
      },
      "execution_count": 7,
      "outputs": [
        {
          "name": "stdout",
          "text": "A\np\np\nl\ne\n",
          "output_type": "stream"
        }
      ]
    },
    {
      "cell_type": "markdown",
      "source": "- И списки тоже являются последовательностями, которые можно перебирать поэлементно:",
      "metadata": {}
    },
    {
      "cell_type": "code",
      "source": "for element in [1, 4, 6, 2, 9, 12, 8, 0]:\n    print(element, end = ' ')",
      "metadata": {
        "trusted": true
      },
      "execution_count": 8,
      "outputs": [
        {
          "name": "stdout",
          "text": "1 4 6 2 9 12 8 0 ",
          "output_type": "stream"
        }
      ]
    },
    {
      "cell_type": "markdown",
      "source": "#### 4) Один цикл for можно вложить внутрь второго",
      "metadata": {}
    },
    {
      "cell_type": "markdown",
      "source": "- Например, в этой задаче генерируется таблица умножения:",
      "metadata": {}
    },
    {
      "cell_type": "code",
      "source": "for i in range(3, 7):\n    for k in range(3, 7):\n        print(i, \"*\", k, '=', i * k)",
      "metadata": {
        "trusted": true
      },
      "execution_count": 9,
      "outputs": [
        {
          "name": "stdout",
          "text": "3 * 3 = 9\n3 * 4 = 12\n3 * 5 = 15\n3 * 6 = 18\n4 * 3 = 12\n4 * 4 = 16\n4 * 5 = 20\n4 * 6 = 24\n5 * 3 = 15\n5 * 4 = 20\n5 * 5 = 25\n5 * 6 = 30\n6 * 3 = 18\n6 * 4 = 24\n6 * 5 = 30\n6 * 6 = 36\n",
          "output_type": "stream"
        }
      ]
    },
    {
      "cell_type": "markdown",
      "source": "### Задачи на цикл For\n",
      "metadata": {}
    },
    {
      "cell_type": "markdown",
      "source": "",
      "metadata": {}
    }
  ]
}